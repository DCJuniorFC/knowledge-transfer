{
  "cells": [
    {
      "cell_type": "markdown",
      "id": "036457d2",
      "metadata": {
        "id": "036457d2"
      },
      "source": [
        "# Análise Exploratória de Dados\n",
        "Este notebook tem por objetivo introduzir conceitos e códigos simples sobre EDA, a sigla vem do inglês e remete à Exploratory Data Analysis. Este procedimento é a primeira atividade realizada por um cientista de dados ao se deparar com uma nova base de dados(dataset), ele serve basicamente para prover um entendimento estruturado desses novos dados. Isso gera insights e facilita na determinação de estratégias para modelagem.\n",
        "\n",
        "Usamos os dados do dataset obtido do Kaggle:\n",
        "https://www.kaggle.com/datasets/prasertk/netflix-daily-top-10-in-us?select=netflix+daily+top+10.csv\n",
        "\n",
        "Que usou como base:\n",
        "https://www.the-numbers.com/netflix-top-10\n",
        "\n",
        "O dataset utilizado refere-se à títulos da Netflix que ficaram no top 10 a cada dia, informações mais detalhadas podem ser encontradas nos links acima."
      ]
    },
    {
      "cell_type": "code",
      "execution_count": 1,
      "id": "cebc14c5",
      "metadata": {
        "id": "cebc14c5"
      },
      "outputs": [],
      "source": [
        "# Importando bibliotecas necessárias\n",
        "import pandas as pd\n",
        "import datetime as dt"
      ]
    },
    {
      "cell_type": "code",
      "execution_count": 2,
      "id": "ccd579cc",
      "metadata": {
        "id": "ccd579cc"
      },
      "outputs": [],
      "source": [
        "# Lendo o dataset e atribuindo à variável base\n",
        "base = pd.read_csv(\"netflix daily top 10.csv\")"
      ]
    },
    {
      "cell_type": "markdown",
      "id": "01587733",
      "metadata": {
        "id": "01587733"
      },
      "source": [
        "#### Visualizar a base que importamos\n",
        "\n",
        "O método head mostra as 5 primeiras linhas do dataset, entretando pode-se passar como parâmetro um número de linhas específicas que você queira visualizar."
      ]
    },
    {
      "cell_type": "code",
      "execution_count": 3,
      "id": "aa915f72",
      "metadata": {
        "colab": {
          "base_uri": "https://localhost:8080/",
          "height": 206
        },
        "id": "aa915f72",
        "outputId": "a2762bcc-ba9d-46f9-91b8-4ae21734e7df"
      },
      "outputs": [
        {
          "output_type": "execute_result",
          "data": {
            "text/plain": [
              "        As of  Rank Year to Date Rank Last Week Rank  \\\n",
              "0  2020-04-01     1                 1              1   \n",
              "1  2020-04-01     2                 2              -   \n",
              "2  2020-04-01     3                 3              2   \n",
              "3  2020-04-01     4                 4              -   \n",
              "4  2020-04-01     5                 5              4   \n",
              "\n",
              "                          Title     Type Netflix Exclusive  \\\n",
              "0  Tiger King: Murder, Mayhem …  TV Show               Yes   \n",
              "1                         Ozark  TV Show               Yes   \n",
              "2                  All American  TV Show               NaN   \n",
              "3                  Blood Father    Movie               NaN   \n",
              "4                  The Platform    Movie               Yes   \n",
              "\n",
              "  Netflix Release Date  Days In Top 10  Viewership Score  \n",
              "0         Mar 20, 2020               9                90  \n",
              "1         Jul 21, 2017               5                45  \n",
              "2         Mar 28, 2019               9                76  \n",
              "3         Mar 26, 2020               5                30  \n",
              "4         Mar 20, 2020               9                55  "
            ],
            "text/html": [
              "\n",
              "  <div id=\"df-fe8e917e-1cdb-4e0c-b425-1a5d76c516fe\">\n",
              "    <div class=\"colab-df-container\">\n",
              "      <div>\n",
              "<style scoped>\n",
              "    .dataframe tbody tr th:only-of-type {\n",
              "        vertical-align: middle;\n",
              "    }\n",
              "\n",
              "    .dataframe tbody tr th {\n",
              "        vertical-align: top;\n",
              "    }\n",
              "\n",
              "    .dataframe thead th {\n",
              "        text-align: right;\n",
              "    }\n",
              "</style>\n",
              "<table border=\"1\" class=\"dataframe\">\n",
              "  <thead>\n",
              "    <tr style=\"text-align: right;\">\n",
              "      <th></th>\n",
              "      <th>As of</th>\n",
              "      <th>Rank</th>\n",
              "      <th>Year to Date Rank</th>\n",
              "      <th>Last Week Rank</th>\n",
              "      <th>Title</th>\n",
              "      <th>Type</th>\n",
              "      <th>Netflix Exclusive</th>\n",
              "      <th>Netflix Release Date</th>\n",
              "      <th>Days In Top 10</th>\n",
              "      <th>Viewership Score</th>\n",
              "    </tr>\n",
              "  </thead>\n",
              "  <tbody>\n",
              "    <tr>\n",
              "      <th>0</th>\n",
              "      <td>2020-04-01</td>\n",
              "      <td>1</td>\n",
              "      <td>1</td>\n",
              "      <td>1</td>\n",
              "      <td>Tiger King: Murder, Mayhem …</td>\n",
              "      <td>TV Show</td>\n",
              "      <td>Yes</td>\n",
              "      <td>Mar 20, 2020</td>\n",
              "      <td>9</td>\n",
              "      <td>90</td>\n",
              "    </tr>\n",
              "    <tr>\n",
              "      <th>1</th>\n",
              "      <td>2020-04-01</td>\n",
              "      <td>2</td>\n",
              "      <td>2</td>\n",
              "      <td>-</td>\n",
              "      <td>Ozark</td>\n",
              "      <td>TV Show</td>\n",
              "      <td>Yes</td>\n",
              "      <td>Jul 21, 2017</td>\n",
              "      <td>5</td>\n",
              "      <td>45</td>\n",
              "    </tr>\n",
              "    <tr>\n",
              "      <th>2</th>\n",
              "      <td>2020-04-01</td>\n",
              "      <td>3</td>\n",
              "      <td>3</td>\n",
              "      <td>2</td>\n",
              "      <td>All American</td>\n",
              "      <td>TV Show</td>\n",
              "      <td>NaN</td>\n",
              "      <td>Mar 28, 2019</td>\n",
              "      <td>9</td>\n",
              "      <td>76</td>\n",
              "    </tr>\n",
              "    <tr>\n",
              "      <th>3</th>\n",
              "      <td>2020-04-01</td>\n",
              "      <td>4</td>\n",
              "      <td>4</td>\n",
              "      <td>-</td>\n",
              "      <td>Blood Father</td>\n",
              "      <td>Movie</td>\n",
              "      <td>NaN</td>\n",
              "      <td>Mar 26, 2020</td>\n",
              "      <td>5</td>\n",
              "      <td>30</td>\n",
              "    </tr>\n",
              "    <tr>\n",
              "      <th>4</th>\n",
              "      <td>2020-04-01</td>\n",
              "      <td>5</td>\n",
              "      <td>5</td>\n",
              "      <td>4</td>\n",
              "      <td>The Platform</td>\n",
              "      <td>Movie</td>\n",
              "      <td>Yes</td>\n",
              "      <td>Mar 20, 2020</td>\n",
              "      <td>9</td>\n",
              "      <td>55</td>\n",
              "    </tr>\n",
              "  </tbody>\n",
              "</table>\n",
              "</div>\n",
              "      <button class=\"colab-df-convert\" onclick=\"convertToInteractive('df-fe8e917e-1cdb-4e0c-b425-1a5d76c516fe')\"\n",
              "              title=\"Convert this dataframe to an interactive table.\"\n",
              "              style=\"display:none;\">\n",
              "        \n",
              "  <svg xmlns=\"http://www.w3.org/2000/svg\" height=\"24px\"viewBox=\"0 0 24 24\"\n",
              "       width=\"24px\">\n",
              "    <path d=\"M0 0h24v24H0V0z\" fill=\"none\"/>\n",
              "    <path d=\"M18.56 5.44l.94 2.06.94-2.06 2.06-.94-2.06-.94-.94-2.06-.94 2.06-2.06.94zm-11 1L8.5 8.5l.94-2.06 2.06-.94-2.06-.94L8.5 2.5l-.94 2.06-2.06.94zm10 10l.94 2.06.94-2.06 2.06-.94-2.06-.94-.94-2.06-.94 2.06-2.06.94z\"/><path d=\"M17.41 7.96l-1.37-1.37c-.4-.4-.92-.59-1.43-.59-.52 0-1.04.2-1.43.59L10.3 9.45l-7.72 7.72c-.78.78-.78 2.05 0 2.83L4 21.41c.39.39.9.59 1.41.59.51 0 1.02-.2 1.41-.59l7.78-7.78 2.81-2.81c.8-.78.8-2.07 0-2.86zM5.41 20L4 18.59l7.72-7.72 1.47 1.35L5.41 20z\"/>\n",
              "  </svg>\n",
              "      </button>\n",
              "      \n",
              "  <style>\n",
              "    .colab-df-container {\n",
              "      display:flex;\n",
              "      flex-wrap:wrap;\n",
              "      gap: 12px;\n",
              "    }\n",
              "\n",
              "    .colab-df-convert {\n",
              "      background-color: #E8F0FE;\n",
              "      border: none;\n",
              "      border-radius: 50%;\n",
              "      cursor: pointer;\n",
              "      display: none;\n",
              "      fill: #1967D2;\n",
              "      height: 32px;\n",
              "      padding: 0 0 0 0;\n",
              "      width: 32px;\n",
              "    }\n",
              "\n",
              "    .colab-df-convert:hover {\n",
              "      background-color: #E2EBFA;\n",
              "      box-shadow: 0px 1px 2px rgba(60, 64, 67, 0.3), 0px 1px 3px 1px rgba(60, 64, 67, 0.15);\n",
              "      fill: #174EA6;\n",
              "    }\n",
              "\n",
              "    [theme=dark] .colab-df-convert {\n",
              "      background-color: #3B4455;\n",
              "      fill: #D2E3FC;\n",
              "    }\n",
              "\n",
              "    [theme=dark] .colab-df-convert:hover {\n",
              "      background-color: #434B5C;\n",
              "      box-shadow: 0px 1px 3px 1px rgba(0, 0, 0, 0.15);\n",
              "      filter: drop-shadow(0px 1px 2px rgba(0, 0, 0, 0.3));\n",
              "      fill: #FFFFFF;\n",
              "    }\n",
              "  </style>\n",
              "\n",
              "      <script>\n",
              "        const buttonEl =\n",
              "          document.querySelector('#df-fe8e917e-1cdb-4e0c-b425-1a5d76c516fe button.colab-df-convert');\n",
              "        buttonEl.style.display =\n",
              "          google.colab.kernel.accessAllowed ? 'block' : 'none';\n",
              "\n",
              "        async function convertToInteractive(key) {\n",
              "          const element = document.querySelector('#df-fe8e917e-1cdb-4e0c-b425-1a5d76c516fe');\n",
              "          const dataTable =\n",
              "            await google.colab.kernel.invokeFunction('convertToInteractive',\n",
              "                                                     [key], {});\n",
              "          if (!dataTable) return;\n",
              "\n",
              "          const docLinkHtml = 'Like what you see? Visit the ' +\n",
              "            '<a target=\"_blank\" href=https://colab.research.google.com/notebooks/data_table.ipynb>data table notebook</a>'\n",
              "            + ' to learn more about interactive tables.';\n",
              "          element.innerHTML = '';\n",
              "          dataTable['output_type'] = 'display_data';\n",
              "          await google.colab.output.renderOutput(dataTable, element);\n",
              "          const docLink = document.createElement('div');\n",
              "          docLink.innerHTML = docLinkHtml;\n",
              "          element.appendChild(docLink);\n",
              "        }\n",
              "      </script>\n",
              "    </div>\n",
              "  </div>\n",
              "  "
            ]
          },
          "metadata": {},
          "execution_count": 3
        }
      ],
      "source": [
        "base.head()"
      ]
    },
    {
      "cell_type": "markdown",
      "source": [
        "Semelhante ao método head o pandas possui o método tail e mostra as 5 últimas linhas do dataset por default e também pode receber um número de linhas específico como parâmetro.\n"
      ],
      "metadata": {
        "id": "M0Sj1zn4Vxku"
      },
      "id": "M0Sj1zn4Vxku"
    },
    {
      "cell_type": "code",
      "execution_count": 4,
      "id": "77c55c02",
      "metadata": {
        "colab": {
          "base_uri": "https://localhost:8080/",
          "height": 206
        },
        "id": "77c55c02",
        "outputId": "831debdf-6b40-48ea-df8a-c466c2c17300"
      },
      "outputs": [
        {
          "output_type": "execute_result",
          "data": {
            "text/plain": [
              "           As of  Rank Year to Date Rank Last Week Rank                Title  \\\n",
              "7095  2022-03-11     6                 5              1  Worst Roommate Ever   \n",
              "7096  2022-03-11     7                 7              2    Vikings: Valhalla   \n",
              "7097  2022-03-11     8                 8              -              Shooter   \n",
              "7098  2022-03-11     9                 9              7              Shrek 2   \n",
              "7099  2022-03-11    10                10              -                Shrek   \n",
              "\n",
              "         Type Netflix Exclusive Netflix Release Date  Days In Top 10  \\\n",
              "7095  TV Show               Yes          Mar 1, 2022              10   \n",
              "7096  TV Show               Yes         Feb 25, 2022              14   \n",
              "7097    Movie               NaN          Aug 1, 2014               3   \n",
              "7098    Movie               NaN          Mar 1, 2022              10   \n",
              "7099    Movie               NaN          May 1, 2018               7   \n",
              "\n",
              "      Viewership Score  \n",
              "7095                81  \n",
              "7096               100  \n",
              "7097                 7  \n",
              "7098                33  \n",
              "7099                12  "
            ],
            "text/html": [
              "\n",
              "  <div id=\"df-3fa7fb9f-75c2-4b48-8f03-92474c28b545\">\n",
              "    <div class=\"colab-df-container\">\n",
              "      <div>\n",
              "<style scoped>\n",
              "    .dataframe tbody tr th:only-of-type {\n",
              "        vertical-align: middle;\n",
              "    }\n",
              "\n",
              "    .dataframe tbody tr th {\n",
              "        vertical-align: top;\n",
              "    }\n",
              "\n",
              "    .dataframe thead th {\n",
              "        text-align: right;\n",
              "    }\n",
              "</style>\n",
              "<table border=\"1\" class=\"dataframe\">\n",
              "  <thead>\n",
              "    <tr style=\"text-align: right;\">\n",
              "      <th></th>\n",
              "      <th>As of</th>\n",
              "      <th>Rank</th>\n",
              "      <th>Year to Date Rank</th>\n",
              "      <th>Last Week Rank</th>\n",
              "      <th>Title</th>\n",
              "      <th>Type</th>\n",
              "      <th>Netflix Exclusive</th>\n",
              "      <th>Netflix Release Date</th>\n",
              "      <th>Days In Top 10</th>\n",
              "      <th>Viewership Score</th>\n",
              "    </tr>\n",
              "  </thead>\n",
              "  <tbody>\n",
              "    <tr>\n",
              "      <th>7095</th>\n",
              "      <td>2022-03-11</td>\n",
              "      <td>6</td>\n",
              "      <td>5</td>\n",
              "      <td>1</td>\n",
              "      <td>Worst Roommate Ever</td>\n",
              "      <td>TV Show</td>\n",
              "      <td>Yes</td>\n",
              "      <td>Mar 1, 2022</td>\n",
              "      <td>10</td>\n",
              "      <td>81</td>\n",
              "    </tr>\n",
              "    <tr>\n",
              "      <th>7096</th>\n",
              "      <td>2022-03-11</td>\n",
              "      <td>7</td>\n",
              "      <td>7</td>\n",
              "      <td>2</td>\n",
              "      <td>Vikings: Valhalla</td>\n",
              "      <td>TV Show</td>\n",
              "      <td>Yes</td>\n",
              "      <td>Feb 25, 2022</td>\n",
              "      <td>14</td>\n",
              "      <td>100</td>\n",
              "    </tr>\n",
              "    <tr>\n",
              "      <th>7097</th>\n",
              "      <td>2022-03-11</td>\n",
              "      <td>8</td>\n",
              "      <td>8</td>\n",
              "      <td>-</td>\n",
              "      <td>Shooter</td>\n",
              "      <td>Movie</td>\n",
              "      <td>NaN</td>\n",
              "      <td>Aug 1, 2014</td>\n",
              "      <td>3</td>\n",
              "      <td>7</td>\n",
              "    </tr>\n",
              "    <tr>\n",
              "      <th>7098</th>\n",
              "      <td>2022-03-11</td>\n",
              "      <td>9</td>\n",
              "      <td>9</td>\n",
              "      <td>7</td>\n",
              "      <td>Shrek 2</td>\n",
              "      <td>Movie</td>\n",
              "      <td>NaN</td>\n",
              "      <td>Mar 1, 2022</td>\n",
              "      <td>10</td>\n",
              "      <td>33</td>\n",
              "    </tr>\n",
              "    <tr>\n",
              "      <th>7099</th>\n",
              "      <td>2022-03-11</td>\n",
              "      <td>10</td>\n",
              "      <td>10</td>\n",
              "      <td>-</td>\n",
              "      <td>Shrek</td>\n",
              "      <td>Movie</td>\n",
              "      <td>NaN</td>\n",
              "      <td>May 1, 2018</td>\n",
              "      <td>7</td>\n",
              "      <td>12</td>\n",
              "    </tr>\n",
              "  </tbody>\n",
              "</table>\n",
              "</div>\n",
              "      <button class=\"colab-df-convert\" onclick=\"convertToInteractive('df-3fa7fb9f-75c2-4b48-8f03-92474c28b545')\"\n",
              "              title=\"Convert this dataframe to an interactive table.\"\n",
              "              style=\"display:none;\">\n",
              "        \n",
              "  <svg xmlns=\"http://www.w3.org/2000/svg\" height=\"24px\"viewBox=\"0 0 24 24\"\n",
              "       width=\"24px\">\n",
              "    <path d=\"M0 0h24v24H0V0z\" fill=\"none\"/>\n",
              "    <path d=\"M18.56 5.44l.94 2.06.94-2.06 2.06-.94-2.06-.94-.94-2.06-.94 2.06-2.06.94zm-11 1L8.5 8.5l.94-2.06 2.06-.94-2.06-.94L8.5 2.5l-.94 2.06-2.06.94zm10 10l.94 2.06.94-2.06 2.06-.94-2.06-.94-.94-2.06-.94 2.06-2.06.94z\"/><path d=\"M17.41 7.96l-1.37-1.37c-.4-.4-.92-.59-1.43-.59-.52 0-1.04.2-1.43.59L10.3 9.45l-7.72 7.72c-.78.78-.78 2.05 0 2.83L4 21.41c.39.39.9.59 1.41.59.51 0 1.02-.2 1.41-.59l7.78-7.78 2.81-2.81c.8-.78.8-2.07 0-2.86zM5.41 20L4 18.59l7.72-7.72 1.47 1.35L5.41 20z\"/>\n",
              "  </svg>\n",
              "      </button>\n",
              "      \n",
              "  <style>\n",
              "    .colab-df-container {\n",
              "      display:flex;\n",
              "      flex-wrap:wrap;\n",
              "      gap: 12px;\n",
              "    }\n",
              "\n",
              "    .colab-df-convert {\n",
              "      background-color: #E8F0FE;\n",
              "      border: none;\n",
              "      border-radius: 50%;\n",
              "      cursor: pointer;\n",
              "      display: none;\n",
              "      fill: #1967D2;\n",
              "      height: 32px;\n",
              "      padding: 0 0 0 0;\n",
              "      width: 32px;\n",
              "    }\n",
              "\n",
              "    .colab-df-convert:hover {\n",
              "      background-color: #E2EBFA;\n",
              "      box-shadow: 0px 1px 2px rgba(60, 64, 67, 0.3), 0px 1px 3px 1px rgba(60, 64, 67, 0.15);\n",
              "      fill: #174EA6;\n",
              "    }\n",
              "\n",
              "    [theme=dark] .colab-df-convert {\n",
              "      background-color: #3B4455;\n",
              "      fill: #D2E3FC;\n",
              "    }\n",
              "\n",
              "    [theme=dark] .colab-df-convert:hover {\n",
              "      background-color: #434B5C;\n",
              "      box-shadow: 0px 1px 3px 1px rgba(0, 0, 0, 0.15);\n",
              "      filter: drop-shadow(0px 1px 2px rgba(0, 0, 0, 0.3));\n",
              "      fill: #FFFFFF;\n",
              "    }\n",
              "  </style>\n",
              "\n",
              "      <script>\n",
              "        const buttonEl =\n",
              "          document.querySelector('#df-3fa7fb9f-75c2-4b48-8f03-92474c28b545 button.colab-df-convert');\n",
              "        buttonEl.style.display =\n",
              "          google.colab.kernel.accessAllowed ? 'block' : 'none';\n",
              "\n",
              "        async function convertToInteractive(key) {\n",
              "          const element = document.querySelector('#df-3fa7fb9f-75c2-4b48-8f03-92474c28b545');\n",
              "          const dataTable =\n",
              "            await google.colab.kernel.invokeFunction('convertToInteractive',\n",
              "                                                     [key], {});\n",
              "          if (!dataTable) return;\n",
              "\n",
              "          const docLinkHtml = 'Like what you see? Visit the ' +\n",
              "            '<a target=\"_blank\" href=https://colab.research.google.com/notebooks/data_table.ipynb>data table notebook</a>'\n",
              "            + ' to learn more about interactive tables.';\n",
              "          element.innerHTML = '';\n",
              "          dataTable['output_type'] = 'display_data';\n",
              "          await google.colab.output.renderOutput(dataTable, element);\n",
              "          const docLink = document.createElement('div');\n",
              "          docLink.innerHTML = docLinkHtml;\n",
              "          element.appendChild(docLink);\n",
              "        }\n",
              "      </script>\n",
              "    </div>\n",
              "  </div>\n",
              "  "
            ]
          },
          "metadata": {},
          "execution_count": 4
        }
      ],
      "source": [
        "base.tail()"
      ]
    },
    {
      "cell_type": "markdown",
      "id": "d37786b4",
      "metadata": {
        "id": "d37786b4"
      },
      "source": [
        "#### Saber o tamanho da base\n",
        "\n",
        "O método shape retorna o número de linhas e colúnas do dataset."
      ]
    },
    {
      "cell_type": "code",
      "execution_count": 5,
      "id": "f62e3018",
      "metadata": {
        "colab": {
          "base_uri": "https://localhost:8080/"
        },
        "id": "f62e3018",
        "outputId": "7cc009c9-301b-44f4-ec24-96b980b76e7f"
      },
      "outputs": [
        {
          "output_type": "execute_result",
          "data": {
            "text/plain": [
              "(7100, 10)"
            ]
          },
          "metadata": {},
          "execution_count": 5
        }
      ],
      "source": [
        "base.shape"
      ]
    },
    {
      "cell_type": "markdown",
      "id": "8b21c7c6",
      "metadata": {
        "id": "8b21c7c6"
      },
      "source": [
        "#### Visualizar a base que importamos e o tamanho da base\n",
        "\n",
        "Semelhante aos métodos head e tail, a função display mostra as 5 primeiras e também as 5 últimas linhas do dataset, além disso informa logo abaixo a dimensão do dataset."
      ]
    },
    {
      "cell_type": "code",
      "execution_count": 6,
      "id": "51a5470e",
      "metadata": {
        "colab": {
          "base_uri": "https://localhost:8080/",
          "height": 424
        },
        "id": "51a5470e",
        "outputId": "b4c128c8-e41b-4315-9114-c2d75d8ee351"
      },
      "outputs": [
        {
          "output_type": "display_data",
          "data": {
            "text/plain": [
              "           As of  Rank Year to Date Rank Last Week Rank  \\\n",
              "0     2020-04-01     1                 1              1   \n",
              "1     2020-04-01     2                 2              -   \n",
              "2     2020-04-01     3                 3              2   \n",
              "3     2020-04-01     4                 4              -   \n",
              "4     2020-04-01     5                 5              4   \n",
              "...          ...   ...               ...            ...   \n",
              "7095  2022-03-11     6                 5              1   \n",
              "7096  2022-03-11     7                 7              2   \n",
              "7097  2022-03-11     8                 8              -   \n",
              "7098  2022-03-11     9                 9              7   \n",
              "7099  2022-03-11    10                10              -   \n",
              "\n",
              "                             Title     Type Netflix Exclusive  \\\n",
              "0     Tiger King: Murder, Mayhem …  TV Show               Yes   \n",
              "1                            Ozark  TV Show               Yes   \n",
              "2                     All American  TV Show               NaN   \n",
              "3                     Blood Father    Movie               NaN   \n",
              "4                     The Platform    Movie               Yes   \n",
              "...                            ...      ...               ...   \n",
              "7095           Worst Roommate Ever  TV Show               Yes   \n",
              "7096             Vikings: Valhalla  TV Show               Yes   \n",
              "7097                       Shooter    Movie               NaN   \n",
              "7098                       Shrek 2    Movie               NaN   \n",
              "7099                         Shrek    Movie               NaN   \n",
              "\n",
              "     Netflix Release Date  Days In Top 10  Viewership Score  \n",
              "0            Mar 20, 2020               9                90  \n",
              "1            Jul 21, 2017               5                45  \n",
              "2            Mar 28, 2019               9                76  \n",
              "3            Mar 26, 2020               5                30  \n",
              "4            Mar 20, 2020               9                55  \n",
              "...                   ...             ...               ...  \n",
              "7095          Mar 1, 2022              10                81  \n",
              "7096         Feb 25, 2022              14               100  \n",
              "7097          Aug 1, 2014               3                 7  \n",
              "7098          Mar 1, 2022              10                33  \n",
              "7099          May 1, 2018               7                12  \n",
              "\n",
              "[7100 rows x 10 columns]"
            ],
            "text/html": [
              "\n",
              "  <div id=\"df-f135d090-bd0a-4a72-a0ef-12d1edeb0168\">\n",
              "    <div class=\"colab-df-container\">\n",
              "      <div>\n",
              "<style scoped>\n",
              "    .dataframe tbody tr th:only-of-type {\n",
              "        vertical-align: middle;\n",
              "    }\n",
              "\n",
              "    .dataframe tbody tr th {\n",
              "        vertical-align: top;\n",
              "    }\n",
              "\n",
              "    .dataframe thead th {\n",
              "        text-align: right;\n",
              "    }\n",
              "</style>\n",
              "<table border=\"1\" class=\"dataframe\">\n",
              "  <thead>\n",
              "    <tr style=\"text-align: right;\">\n",
              "      <th></th>\n",
              "      <th>As of</th>\n",
              "      <th>Rank</th>\n",
              "      <th>Year to Date Rank</th>\n",
              "      <th>Last Week Rank</th>\n",
              "      <th>Title</th>\n",
              "      <th>Type</th>\n",
              "      <th>Netflix Exclusive</th>\n",
              "      <th>Netflix Release Date</th>\n",
              "      <th>Days In Top 10</th>\n",
              "      <th>Viewership Score</th>\n",
              "    </tr>\n",
              "  </thead>\n",
              "  <tbody>\n",
              "    <tr>\n",
              "      <th>0</th>\n",
              "      <td>2020-04-01</td>\n",
              "      <td>1</td>\n",
              "      <td>1</td>\n",
              "      <td>1</td>\n",
              "      <td>Tiger King: Murder, Mayhem …</td>\n",
              "      <td>TV Show</td>\n",
              "      <td>Yes</td>\n",
              "      <td>Mar 20, 2020</td>\n",
              "      <td>9</td>\n",
              "      <td>90</td>\n",
              "    </tr>\n",
              "    <tr>\n",
              "      <th>1</th>\n",
              "      <td>2020-04-01</td>\n",
              "      <td>2</td>\n",
              "      <td>2</td>\n",
              "      <td>-</td>\n",
              "      <td>Ozark</td>\n",
              "      <td>TV Show</td>\n",
              "      <td>Yes</td>\n",
              "      <td>Jul 21, 2017</td>\n",
              "      <td>5</td>\n",
              "      <td>45</td>\n",
              "    </tr>\n",
              "    <tr>\n",
              "      <th>2</th>\n",
              "      <td>2020-04-01</td>\n",
              "      <td>3</td>\n",
              "      <td>3</td>\n",
              "      <td>2</td>\n",
              "      <td>All American</td>\n",
              "      <td>TV Show</td>\n",
              "      <td>NaN</td>\n",
              "      <td>Mar 28, 2019</td>\n",
              "      <td>9</td>\n",
              "      <td>76</td>\n",
              "    </tr>\n",
              "    <tr>\n",
              "      <th>3</th>\n",
              "      <td>2020-04-01</td>\n",
              "      <td>4</td>\n",
              "      <td>4</td>\n",
              "      <td>-</td>\n",
              "      <td>Blood Father</td>\n",
              "      <td>Movie</td>\n",
              "      <td>NaN</td>\n",
              "      <td>Mar 26, 2020</td>\n",
              "      <td>5</td>\n",
              "      <td>30</td>\n",
              "    </tr>\n",
              "    <tr>\n",
              "      <th>4</th>\n",
              "      <td>2020-04-01</td>\n",
              "      <td>5</td>\n",
              "      <td>5</td>\n",
              "      <td>4</td>\n",
              "      <td>The Platform</td>\n",
              "      <td>Movie</td>\n",
              "      <td>Yes</td>\n",
              "      <td>Mar 20, 2020</td>\n",
              "      <td>9</td>\n",
              "      <td>55</td>\n",
              "    </tr>\n",
              "    <tr>\n",
              "      <th>...</th>\n",
              "      <td>...</td>\n",
              "      <td>...</td>\n",
              "      <td>...</td>\n",
              "      <td>...</td>\n",
              "      <td>...</td>\n",
              "      <td>...</td>\n",
              "      <td>...</td>\n",
              "      <td>...</td>\n",
              "      <td>...</td>\n",
              "      <td>...</td>\n",
              "    </tr>\n",
              "    <tr>\n",
              "      <th>7095</th>\n",
              "      <td>2022-03-11</td>\n",
              "      <td>6</td>\n",
              "      <td>5</td>\n",
              "      <td>1</td>\n",
              "      <td>Worst Roommate Ever</td>\n",
              "      <td>TV Show</td>\n",
              "      <td>Yes</td>\n",
              "      <td>Mar 1, 2022</td>\n",
              "      <td>10</td>\n",
              "      <td>81</td>\n",
              "    </tr>\n",
              "    <tr>\n",
              "      <th>7096</th>\n",
              "      <td>2022-03-11</td>\n",
              "      <td>7</td>\n",
              "      <td>7</td>\n",
              "      <td>2</td>\n",
              "      <td>Vikings: Valhalla</td>\n",
              "      <td>TV Show</td>\n",
              "      <td>Yes</td>\n",
              "      <td>Feb 25, 2022</td>\n",
              "      <td>14</td>\n",
              "      <td>100</td>\n",
              "    </tr>\n",
              "    <tr>\n",
              "      <th>7097</th>\n",
              "      <td>2022-03-11</td>\n",
              "      <td>8</td>\n",
              "      <td>8</td>\n",
              "      <td>-</td>\n",
              "      <td>Shooter</td>\n",
              "      <td>Movie</td>\n",
              "      <td>NaN</td>\n",
              "      <td>Aug 1, 2014</td>\n",
              "      <td>3</td>\n",
              "      <td>7</td>\n",
              "    </tr>\n",
              "    <tr>\n",
              "      <th>7098</th>\n",
              "      <td>2022-03-11</td>\n",
              "      <td>9</td>\n",
              "      <td>9</td>\n",
              "      <td>7</td>\n",
              "      <td>Shrek 2</td>\n",
              "      <td>Movie</td>\n",
              "      <td>NaN</td>\n",
              "      <td>Mar 1, 2022</td>\n",
              "      <td>10</td>\n",
              "      <td>33</td>\n",
              "    </tr>\n",
              "    <tr>\n",
              "      <th>7099</th>\n",
              "      <td>2022-03-11</td>\n",
              "      <td>10</td>\n",
              "      <td>10</td>\n",
              "      <td>-</td>\n",
              "      <td>Shrek</td>\n",
              "      <td>Movie</td>\n",
              "      <td>NaN</td>\n",
              "      <td>May 1, 2018</td>\n",
              "      <td>7</td>\n",
              "      <td>12</td>\n",
              "    </tr>\n",
              "  </tbody>\n",
              "</table>\n",
              "<p>7100 rows × 10 columns</p>\n",
              "</div>\n",
              "      <button class=\"colab-df-convert\" onclick=\"convertToInteractive('df-f135d090-bd0a-4a72-a0ef-12d1edeb0168')\"\n",
              "              title=\"Convert this dataframe to an interactive table.\"\n",
              "              style=\"display:none;\">\n",
              "        \n",
              "  <svg xmlns=\"http://www.w3.org/2000/svg\" height=\"24px\"viewBox=\"0 0 24 24\"\n",
              "       width=\"24px\">\n",
              "    <path d=\"M0 0h24v24H0V0z\" fill=\"none\"/>\n",
              "    <path d=\"M18.56 5.44l.94 2.06.94-2.06 2.06-.94-2.06-.94-.94-2.06-.94 2.06-2.06.94zm-11 1L8.5 8.5l.94-2.06 2.06-.94-2.06-.94L8.5 2.5l-.94 2.06-2.06.94zm10 10l.94 2.06.94-2.06 2.06-.94-2.06-.94-.94-2.06-.94 2.06-2.06.94z\"/><path d=\"M17.41 7.96l-1.37-1.37c-.4-.4-.92-.59-1.43-.59-.52 0-1.04.2-1.43.59L10.3 9.45l-7.72 7.72c-.78.78-.78 2.05 0 2.83L4 21.41c.39.39.9.59 1.41.59.51 0 1.02-.2 1.41-.59l7.78-7.78 2.81-2.81c.8-.78.8-2.07 0-2.86zM5.41 20L4 18.59l7.72-7.72 1.47 1.35L5.41 20z\"/>\n",
              "  </svg>\n",
              "      </button>\n",
              "      \n",
              "  <style>\n",
              "    .colab-df-container {\n",
              "      display:flex;\n",
              "      flex-wrap:wrap;\n",
              "      gap: 12px;\n",
              "    }\n",
              "\n",
              "    .colab-df-convert {\n",
              "      background-color: #E8F0FE;\n",
              "      border: none;\n",
              "      border-radius: 50%;\n",
              "      cursor: pointer;\n",
              "      display: none;\n",
              "      fill: #1967D2;\n",
              "      height: 32px;\n",
              "      padding: 0 0 0 0;\n",
              "      width: 32px;\n",
              "    }\n",
              "\n",
              "    .colab-df-convert:hover {\n",
              "      background-color: #E2EBFA;\n",
              "      box-shadow: 0px 1px 2px rgba(60, 64, 67, 0.3), 0px 1px 3px 1px rgba(60, 64, 67, 0.15);\n",
              "      fill: #174EA6;\n",
              "    }\n",
              "\n",
              "    [theme=dark] .colab-df-convert {\n",
              "      background-color: #3B4455;\n",
              "      fill: #D2E3FC;\n",
              "    }\n",
              "\n",
              "    [theme=dark] .colab-df-convert:hover {\n",
              "      background-color: #434B5C;\n",
              "      box-shadow: 0px 1px 3px 1px rgba(0, 0, 0, 0.15);\n",
              "      filter: drop-shadow(0px 1px 2px rgba(0, 0, 0, 0.3));\n",
              "      fill: #FFFFFF;\n",
              "    }\n",
              "  </style>\n",
              "\n",
              "      <script>\n",
              "        const buttonEl =\n",
              "          document.querySelector('#df-f135d090-bd0a-4a72-a0ef-12d1edeb0168 button.colab-df-convert');\n",
              "        buttonEl.style.display =\n",
              "          google.colab.kernel.accessAllowed ? 'block' : 'none';\n",
              "\n",
              "        async function convertToInteractive(key) {\n",
              "          const element = document.querySelector('#df-f135d090-bd0a-4a72-a0ef-12d1edeb0168');\n",
              "          const dataTable =\n",
              "            await google.colab.kernel.invokeFunction('convertToInteractive',\n",
              "                                                     [key], {});\n",
              "          if (!dataTable) return;\n",
              "\n",
              "          const docLinkHtml = 'Like what you see? Visit the ' +\n",
              "            '<a target=\"_blank\" href=https://colab.research.google.com/notebooks/data_table.ipynb>data table notebook</a>'\n",
              "            + ' to learn more about interactive tables.';\n",
              "          element.innerHTML = '';\n",
              "          dataTable['output_type'] = 'display_data';\n",
              "          await google.colab.output.renderOutput(dataTable, element);\n",
              "          const docLink = document.createElement('div');\n",
              "          docLink.innerHTML = docLinkHtml;\n",
              "          element.appendChild(docLink);\n",
              "        }\n",
              "      </script>\n",
              "    </div>\n",
              "  </div>\n",
              "  "
            ]
          },
          "metadata": {}
        }
      ],
      "source": [
        "display(base)"
      ]
    },
    {
      "cell_type": "markdown",
      "id": "28731258",
      "metadata": {
        "id": "28731258"
      },
      "source": [
        "#### Descobrindo o período da análise\n",
        "\n",
        "A coluna \"As of\" informa as datas de apuração, logo pegagando seus valores máximos e mínimos conseguimos definir o período total da análise."
      ]
    },
    {
      "cell_type": "code",
      "execution_count": 7,
      "id": "2624d352",
      "metadata": {
        "colab": {
          "base_uri": "https://localhost:8080/"
        },
        "id": "2624d352",
        "outputId": "734d6721-8cec-4b0c-fd71-255fbe280bf1"
      },
      "outputs": [
        {
          "output_type": "stream",
          "name": "stdout",
          "text": [
            "2020-04-01\n"
          ]
        }
      ],
      "source": [
        "# Transformando coluna 'As of' para o tipo datetime e pegando seu valor mínimo\n",
        "inicio = pd.to_datetime(base['As of']).dt.date.min()\n",
        "print(inicio)"
      ]
    },
    {
      "cell_type": "code",
      "execution_count": 8,
      "id": "9344543b",
      "metadata": {
        "colab": {
          "base_uri": "https://localhost:8080/"
        },
        "id": "9344543b",
        "outputId": "8ff62aeb-0d09-4222-e2b9-1f3387d2a853"
      },
      "outputs": [
        {
          "output_type": "stream",
          "name": "stdout",
          "text": [
            "2022-03-11\n"
          ]
        }
      ],
      "source": [
        "# Transformando coluna 'As of' para o tipo datetime e pegando seu valor máximo\n",
        "fim = pd.to_datetime(base['As of']).dt.date.max()\n",
        "print(fim)"
      ]
    },
    {
      "cell_type": "markdown",
      "id": "51150d44",
      "metadata": {
        "id": "51150d44"
      },
      "source": [
        "#### Verificar valores nulos e tipo de dados\n",
        "\n",
        "o método info informa o número de linhas não nulas de cada coluna, o tipo de dado de cada coluna, o intervalo de índices do dataset e a quantidade de memória utilizada para armazenamento da base de dados."
      ]
    },
    {
      "cell_type": "code",
      "execution_count": 11,
      "id": "53d1f3ce",
      "metadata": {
        "colab": {
          "base_uri": "https://localhost:8080/"
        },
        "id": "53d1f3ce",
        "outputId": "dfff2dac-fb37-44b8-9ee4-7c20076825c0"
      },
      "outputs": [
        {
          "output_type": "stream",
          "name": "stdout",
          "text": [
            "<class 'pandas.core.frame.DataFrame'>\n",
            "RangeIndex: 7100 entries, 0 to 7099\n",
            "Data columns (total 10 columns):\n",
            " #   Column                Non-Null Count  Dtype \n",
            "---  ------                --------------  ----- \n",
            " 0   As of                 7100 non-null   object\n",
            " 1   Rank                  7100 non-null   int64 \n",
            " 2   Year to Date Rank     7100 non-null   object\n",
            " 3   Last Week Rank        7100 non-null   object\n",
            " 4   Title                 7100 non-null   object\n",
            " 5   Type                  7100 non-null   object\n",
            " 6   Netflix Exclusive     4599 non-null   object\n",
            " 7   Netflix Release Date  7100 non-null   object\n",
            " 8   Days In Top 10        7100 non-null   int64 \n",
            " 9   Viewership Score      7100 non-null   int64 \n",
            "dtypes: int64(3), object(7)\n",
            "memory usage: 554.8+ KB\n"
          ]
        }
      ],
      "source": [
        "base.info()"
      ]
    },
    {
      "cell_type": "markdown",
      "id": "ffc9c87e",
      "metadata": {
        "id": "ffc9c87e"
      },
      "source": [
        "#### Verificando o tipo dos dados\n",
        "\n",
        "O método dtypes informa apenas o tipo de dado de cada coluna do dataset."
      ]
    },
    {
      "cell_type": "code",
      "execution_count": 12,
      "id": "020ab262",
      "metadata": {
        "colab": {
          "base_uri": "https://localhost:8080/"
        },
        "id": "020ab262",
        "outputId": "b82634fd-4381-4485-e0bc-3084de3edb23"
      },
      "outputs": [
        {
          "output_type": "execute_result",
          "data": {
            "text/plain": [
              "As of                   object\n",
              "Rank                     int64\n",
              "Year to Date Rank       object\n",
              "Last Week Rank          object\n",
              "Title                   object\n",
              "Type                    object\n",
              "Netflix Exclusive       object\n",
              "Netflix Release Date    object\n",
              "Days In Top 10           int64\n",
              "Viewership Score         int64\n",
              "dtype: object"
            ]
          },
          "metadata": {},
          "execution_count": 12
        }
      ],
      "source": [
        "base.dtypes"
      ]
    },
    {
      "cell_type": "markdown",
      "id": "4c3b6f41",
      "metadata": {
        "id": "4c3b6f41"
      },
      "source": [
        "#### Verificando a existência de valores nulos\n",
        "\n",
        "Aplicando os métodos isnull e sum sequencialmente como no código abaixo podemos verificar a quantidade de valores nulos por coluna."
      ]
    },
    {
      "cell_type": "code",
      "execution_count": 13,
      "id": "23e2d89d",
      "metadata": {
        "colab": {
          "base_uri": "https://localhost:8080/"
        },
        "id": "23e2d89d",
        "outputId": "f15e1ff5-6f5b-44f9-d672-238eb6bf0578"
      },
      "outputs": [
        {
          "output_type": "execute_result",
          "data": {
            "text/plain": [
              "As of                      0\n",
              "Rank                       0\n",
              "Year to Date Rank          0\n",
              "Last Week Rank             0\n",
              "Title                      0\n",
              "Type                       0\n",
              "Netflix Exclusive       2501\n",
              "Netflix Release Date       0\n",
              "Days In Top 10             0\n",
              "Viewership Score           0\n",
              "dtype: int64"
            ]
          },
          "metadata": {},
          "execution_count": 13
        }
      ],
      "source": [
        "base.isnull().sum()"
      ]
    },
    {
      "cell_type": "markdown",
      "id": "57ab7b89",
      "metadata": {
        "id": "57ab7b89"
      },
      "source": [
        "#### Entendendo melhor os valores nulos\n",
        "\n",
        "Com o código abaixo podemos visualizar a quantidade total de cada valor único em uma coluna, observe que na coluna \"Netflix Exclusive\" há apenas o valor \"yes\", ou seja, os dados nulos neste caso estão representado a não exclusividade."
      ]
    },
    {
      "cell_type": "code",
      "execution_count": 14,
      "id": "054a40a7",
      "metadata": {
        "colab": {
          "base_uri": "https://localhost:8080/"
        },
        "id": "054a40a7",
        "outputId": "8b1c2cc0-4167-4825-e939-ad3d5f596747"
      },
      "outputs": [
        {
          "output_type": "execute_result",
          "data": {
            "text/plain": [
              "Yes    4599\n",
              "Name: Netflix Exclusive, dtype: int64"
            ]
          },
          "metadata": {},
          "execution_count": 14
        }
      ],
      "source": [
        "base['Netflix Exclusive'].value_counts()"
      ]
    },
    {
      "cell_type": "markdown",
      "id": "4c8e17ed",
      "metadata": {
        "id": "4c8e17ed"
      },
      "source": [
        "#### Analisando as informações estatísticas\n",
        "\n",
        "O método describe é util para entender alguns dados estatísticos básicos sobre o dataset, ele informa valores totais, média, desvio padrão, quartis e valores máximos e mínimos. Observe que o método logicamente só mostra dados das colunas com valores numéricos."
      ]
    },
    {
      "cell_type": "code",
      "execution_count": 15,
      "id": "7659edfd",
      "metadata": {
        "colab": {
          "base_uri": "https://localhost:8080/",
          "height": 300
        },
        "id": "7659edfd",
        "outputId": "400192f5-3345-4a27-be39-1843eb363ace"
      },
      "outputs": [
        {
          "output_type": "execute_result",
          "data": {
            "text/plain": [
              "              Rank  Days In Top 10  Viewership Score\n",
              "count  7100.000000     7100.000000       7100.000000\n",
              "mean      5.500000       24.123662        122.790141\n",
              "std       2.872484       58.473789        213.861642\n",
              "min       1.000000        1.000000          1.000000\n",
              "25%       3.000000        3.000000         19.000000\n",
              "50%       5.500000        7.000000         50.000000\n",
              "75%       8.000000       18.000000        128.000000\n",
              "max      10.000000      428.000000       1474.000000"
            ],
            "text/html": [
              "\n",
              "  <div id=\"df-9512ac92-c581-4755-8ac8-41658d50da7d\">\n",
              "    <div class=\"colab-df-container\">\n",
              "      <div>\n",
              "<style scoped>\n",
              "    .dataframe tbody tr th:only-of-type {\n",
              "        vertical-align: middle;\n",
              "    }\n",
              "\n",
              "    .dataframe tbody tr th {\n",
              "        vertical-align: top;\n",
              "    }\n",
              "\n",
              "    .dataframe thead th {\n",
              "        text-align: right;\n",
              "    }\n",
              "</style>\n",
              "<table border=\"1\" class=\"dataframe\">\n",
              "  <thead>\n",
              "    <tr style=\"text-align: right;\">\n",
              "      <th></th>\n",
              "      <th>Rank</th>\n",
              "      <th>Days In Top 10</th>\n",
              "      <th>Viewership Score</th>\n",
              "    </tr>\n",
              "  </thead>\n",
              "  <tbody>\n",
              "    <tr>\n",
              "      <th>count</th>\n",
              "      <td>7100.000000</td>\n",
              "      <td>7100.000000</td>\n",
              "      <td>7100.000000</td>\n",
              "    </tr>\n",
              "    <tr>\n",
              "      <th>mean</th>\n",
              "      <td>5.500000</td>\n",
              "      <td>24.123662</td>\n",
              "      <td>122.790141</td>\n",
              "    </tr>\n",
              "    <tr>\n",
              "      <th>std</th>\n",
              "      <td>2.872484</td>\n",
              "      <td>58.473789</td>\n",
              "      <td>213.861642</td>\n",
              "    </tr>\n",
              "    <tr>\n",
              "      <th>min</th>\n",
              "      <td>1.000000</td>\n",
              "      <td>1.000000</td>\n",
              "      <td>1.000000</td>\n",
              "    </tr>\n",
              "    <tr>\n",
              "      <th>25%</th>\n",
              "      <td>3.000000</td>\n",
              "      <td>3.000000</td>\n",
              "      <td>19.000000</td>\n",
              "    </tr>\n",
              "    <tr>\n",
              "      <th>50%</th>\n",
              "      <td>5.500000</td>\n",
              "      <td>7.000000</td>\n",
              "      <td>50.000000</td>\n",
              "    </tr>\n",
              "    <tr>\n",
              "      <th>75%</th>\n",
              "      <td>8.000000</td>\n",
              "      <td>18.000000</td>\n",
              "      <td>128.000000</td>\n",
              "    </tr>\n",
              "    <tr>\n",
              "      <th>max</th>\n",
              "      <td>10.000000</td>\n",
              "      <td>428.000000</td>\n",
              "      <td>1474.000000</td>\n",
              "    </tr>\n",
              "  </tbody>\n",
              "</table>\n",
              "</div>\n",
              "      <button class=\"colab-df-convert\" onclick=\"convertToInteractive('df-9512ac92-c581-4755-8ac8-41658d50da7d')\"\n",
              "              title=\"Convert this dataframe to an interactive table.\"\n",
              "              style=\"display:none;\">\n",
              "        \n",
              "  <svg xmlns=\"http://www.w3.org/2000/svg\" height=\"24px\"viewBox=\"0 0 24 24\"\n",
              "       width=\"24px\">\n",
              "    <path d=\"M0 0h24v24H0V0z\" fill=\"none\"/>\n",
              "    <path d=\"M18.56 5.44l.94 2.06.94-2.06 2.06-.94-2.06-.94-.94-2.06-.94 2.06-2.06.94zm-11 1L8.5 8.5l.94-2.06 2.06-.94-2.06-.94L8.5 2.5l-.94 2.06-2.06.94zm10 10l.94 2.06.94-2.06 2.06-.94-2.06-.94-.94-2.06-.94 2.06-2.06.94z\"/><path d=\"M17.41 7.96l-1.37-1.37c-.4-.4-.92-.59-1.43-.59-.52 0-1.04.2-1.43.59L10.3 9.45l-7.72 7.72c-.78.78-.78 2.05 0 2.83L4 21.41c.39.39.9.59 1.41.59.51 0 1.02-.2 1.41-.59l7.78-7.78 2.81-2.81c.8-.78.8-2.07 0-2.86zM5.41 20L4 18.59l7.72-7.72 1.47 1.35L5.41 20z\"/>\n",
              "  </svg>\n",
              "      </button>\n",
              "      \n",
              "  <style>\n",
              "    .colab-df-container {\n",
              "      display:flex;\n",
              "      flex-wrap:wrap;\n",
              "      gap: 12px;\n",
              "    }\n",
              "\n",
              "    .colab-df-convert {\n",
              "      background-color: #E8F0FE;\n",
              "      border: none;\n",
              "      border-radius: 50%;\n",
              "      cursor: pointer;\n",
              "      display: none;\n",
              "      fill: #1967D2;\n",
              "      height: 32px;\n",
              "      padding: 0 0 0 0;\n",
              "      width: 32px;\n",
              "    }\n",
              "\n",
              "    .colab-df-convert:hover {\n",
              "      background-color: #E2EBFA;\n",
              "      box-shadow: 0px 1px 2px rgba(60, 64, 67, 0.3), 0px 1px 3px 1px rgba(60, 64, 67, 0.15);\n",
              "      fill: #174EA6;\n",
              "    }\n",
              "\n",
              "    [theme=dark] .colab-df-convert {\n",
              "      background-color: #3B4455;\n",
              "      fill: #D2E3FC;\n",
              "    }\n",
              "\n",
              "    [theme=dark] .colab-df-convert:hover {\n",
              "      background-color: #434B5C;\n",
              "      box-shadow: 0px 1px 3px 1px rgba(0, 0, 0, 0.15);\n",
              "      filter: drop-shadow(0px 1px 2px rgba(0, 0, 0, 0.3));\n",
              "      fill: #FFFFFF;\n",
              "    }\n",
              "  </style>\n",
              "\n",
              "      <script>\n",
              "        const buttonEl =\n",
              "          document.querySelector('#df-9512ac92-c581-4755-8ac8-41658d50da7d button.colab-df-convert');\n",
              "        buttonEl.style.display =\n",
              "          google.colab.kernel.accessAllowed ? 'block' : 'none';\n",
              "\n",
              "        async function convertToInteractive(key) {\n",
              "          const element = document.querySelector('#df-9512ac92-c581-4755-8ac8-41658d50da7d');\n",
              "          const dataTable =\n",
              "            await google.colab.kernel.invokeFunction('convertToInteractive',\n",
              "                                                     [key], {});\n",
              "          if (!dataTable) return;\n",
              "\n",
              "          const docLinkHtml = 'Like what you see? Visit the ' +\n",
              "            '<a target=\"_blank\" href=https://colab.research.google.com/notebooks/data_table.ipynb>data table notebook</a>'\n",
              "            + ' to learn more about interactive tables.';\n",
              "          element.innerHTML = '';\n",
              "          dataTable['output_type'] = 'display_data';\n",
              "          await google.colab.output.renderOutput(dataTable, element);\n",
              "          const docLink = document.createElement('div');\n",
              "          docLink.innerHTML = docLinkHtml;\n",
              "          element.appendChild(docLink);\n",
              "        }\n",
              "      </script>\n",
              "    </div>\n",
              "  </div>\n",
              "  "
            ]
          },
          "metadata": {},
          "execution_count": 15
        }
      ],
      "source": [
        "base.describe()"
      ]
    },
    {
      "cell_type": "markdown",
      "id": "211ec900",
      "metadata": {
        "id": "211ec900"
      },
      "source": [
        "#### Entendendo melhor essas informações"
      ]
    },
    {
      "cell_type": "code",
      "execution_count": 16,
      "id": "f46a08ad",
      "metadata": {
        "colab": {
          "base_uri": "https://localhost:8080/",
          "height": 374
        },
        "id": "f46a08ad",
        "outputId": "0d6dda5a-804f-4e69-90bf-7f0937a59ace"
      },
      "outputs": [
        {
          "output_type": "display_data",
          "data": {
            "text/plain": [
              "<Figure size 720x432 with 3 Axes>"
            ],
            "image/png": "[encoded data removed]"
          },
          "metadata": {
            "needs_background": "light"
          }
        }
      ],
      "source": [
        "base.plot(kind='box',figsize=(10,6),subplots=True); "
      ]
    },
    {
      "cell_type": "markdown",
      "id": "217e1c56",
      "metadata": {
        "id": "217e1c56"
      },
      "source": [
        "##### O que seriam esses outliers?"
      ]
    },
    {
      "cell_type": "code",
      "execution_count": 10,
      "id": "83358434",
      "metadata": {
        "colab": {
          "base_uri": "https://localhost:8080/",
          "height": 424
        },
        "id": "83358434",
        "outputId": "f1b4ae05-2e23-4c61-978c-77688edf54ce"
      },
      "outputs": [
        {
          "output_type": "execute_result",
          "data": {
            "text/plain": [
              "           As of  Rank Year to Date Rank Last Week Rank      Title     Type  \\\n",
              "2886  2021-01-14     7                 6              8  Cocomelon  TV Show   \n",
              "2896  2021-01-15     7                 7             10  Cocomelon  TV Show   \n",
              "2909  2021-01-16    10                 7              9  Cocomelon  TV Show   \n",
              "2919  2021-01-17    10                10              9  Cocomelon  TV Show   \n",
              "3019  2021-01-27    10                 -              -  Cocomelon  TV Show   \n",
              "...          ...   ...               ...            ...        ...      ...   \n",
              "6674  2022-01-28     5                 6              -  Cocomelon  TV Show   \n",
              "6687  2022-01-29     8                 5              8  Cocomelon  TV Show   \n",
              "6718  2022-02-01     9                 -              7  Cocomelon  TV Show   \n",
              "6959  2022-02-25    10                 -              -  Cocomelon  TV Show   \n",
              "6998  2022-03-01     9                 -              -  Cocomelon  TV Show   \n",
              "\n",
              "     Netflix Exclusive Netflix Release Date  Days In Top 10  Viewership Score  \n",
              "2886               NaN          Jun 1, 2020             100               287  \n",
              "2896               NaN          Jun 1, 2020             101               291  \n",
              "2909               NaN          Jun 1, 2020             102               292  \n",
              "2919               NaN          Jun 1, 2020             103               293  \n",
              "3019               NaN          Jun 1, 2020             104               294  \n",
              "...                ...                  ...             ...               ...  \n",
              "6674               NaN          Jun 1, 2020             424              1466  \n",
              "6687               NaN          Jun 1, 2020             425              1469  \n",
              "6718               NaN          Jun 1, 2020             426              1471  \n",
              "6959               NaN          Jun 1, 2020             427              1472  \n",
              "6998               NaN          Jun 1, 2020             428              1474  \n",
              "\n",
              "[329 rows x 10 columns]"
            ],
            "text/html": [
              "\n",
              "  <div id=\"df-376c92fe-46b0-4c68-ab41-f4e44ea8b4cc\">\n",
              "    <div class=\"colab-df-container\">\n",
              "      <div>\n",
              "<style scoped>\n",
              "    .dataframe tbody tr th:only-of-type {\n",
              "        vertical-align: middle;\n",
              "    }\n",
              "\n",
              "    .dataframe tbody tr th {\n",
              "        vertical-align: top;\n",
              "    }\n",
              "\n",
              "    .dataframe thead th {\n",
              "        text-align: right;\n",
              "    }\n",
              "</style>\n",
              "<table border=\"1\" class=\"dataframe\">\n",
              "  <thead>\n",
              "    <tr style=\"text-align: right;\">\n",
              "      <th></th>\n",
              "      <th>As of</th>\n",
              "      <th>Rank</th>\n",
              "      <th>Year to Date Rank</th>\n",
              "      <th>Last Week Rank</th>\n",
              "      <th>Title</th>\n",
              "      <th>Type</th>\n",
              "      <th>Netflix Exclusive</th>\n",
              "      <th>Netflix Release Date</th>\n",
              "      <th>Days In Top 10</th>\n",
              "      <th>Viewership Score</th>\n",
              "    </tr>\n",
              "  </thead>\n",
              "  <tbody>\n",
              "    <tr>\n",
              "      <th>2886</th>\n",
              "      <td>2021-01-14</td>\n",
              "      <td>7</td>\n",
              "      <td>6</td>\n",
              "      <td>8</td>\n",
              "      <td>Cocomelon</td>\n",
              "      <td>TV Show</td>\n",
              "      <td>NaN</td>\n",
              "      <td>Jun 1, 2020</td>\n",
              "      <td>100</td>\n",
              "      <td>287</td>\n",
              "    </tr>\n",
              "    <tr>\n",
              "      <th>2896</th>\n",
              "      <td>2021-01-15</td>\n",
              "      <td>7</td>\n",
              "      <td>7</td>\n",
              "      <td>10</td>\n",
              "      <td>Cocomelon</td>\n",
              "      <td>TV Show</td>\n",
              "      <td>NaN</td>\n",
              "      <td>Jun 1, 2020</td>\n",
              "      <td>101</td>\n",
              "      <td>291</td>\n",
              "    </tr>\n",
              "    <tr>\n",
              "      <th>2909</th>\n",
              "      <td>2021-01-16</td>\n",
              "      <td>10</td>\n",
              "      <td>7</td>\n",
              "      <td>9</td>\n",
              "      <td>Cocomelon</td>\n",
              "      <td>TV Show</td>\n",
              "      <td>NaN</td>\n",
              "      <td>Jun 1, 2020</td>\n",
              "      <td>102</td>\n",
              "      <td>292</td>\n",
              "    </tr>\n",
              "    <tr>\n",
              "      <th>2919</th>\n",
              "      <td>2021-01-17</td>\n",
              "      <td>10</td>\n",
              "      <td>10</td>\n",
              "      <td>9</td>\n",
              "      <td>Cocomelon</td>\n",
              "      <td>TV Show</td>\n",
              "      <td>NaN</td>\n",
              "      <td>Jun 1, 2020</td>\n",
              "      <td>103</td>\n",
              "      <td>293</td>\n",
              "    </tr>\n",
              "    <tr>\n",
              "      <th>3019</th>\n",
              "      <td>2021-01-27</td>\n",
              "      <td>10</td>\n",
              "      <td>-</td>\n",
              "      <td>-</td>\n",
              "      <td>Cocomelon</td>\n",
              "      <td>TV Show</td>\n",
              "      <td>NaN</td>\n",
              "      <td>Jun 1, 2020</td>\n",
              "      <td>104</td>\n",
              "      <td>294</td>\n",
              "    </tr>\n",
              "    <tr>\n",
              "      <th>...</th>\n",
              "      <td>...</td>\n",
              "      <td>...</td>\n",
              "      <td>...</td>\n",
              "      <td>...</td>\n",
              "      <td>...</td>\n",
              "      <td>...</td>\n",
              "      <td>...</td>\n",
              "      <td>...</td>\n",
              "      <td>...</td>\n",
              "      <td>...</td>\n",
              "    </tr>\n",
              "    <tr>\n",
              "      <th>6674</th>\n",
              "      <td>2022-01-28</td>\n",
              "      <td>5</td>\n",
              "      <td>6</td>\n",
              "      <td>-</td>\n",
              "      <td>Cocomelon</td>\n",
              "      <td>TV Show</td>\n",
              "      <td>NaN</td>\n",
              "      <td>Jun 1, 2020</td>\n",
              "      <td>424</td>\n",
              "      <td>1466</td>\n",
              "    </tr>\n",
              "    <tr>\n",
              "      <th>6687</th>\n",
              "      <td>2022-01-29</td>\n",
              "      <td>8</td>\n",
              "      <td>5</td>\n",
              "      <td>8</td>\n",
              "      <td>Cocomelon</td>\n",
              "      <td>TV Show</td>\n",
              "      <td>NaN</td>\n",
              "      <td>Jun 1, 2020</td>\n",
              "      <td>425</td>\n",
              "      <td>1469</td>\n",
              "    </tr>\n",
              "    <tr>\n",
              "      <th>6718</th>\n",
              "      <td>2022-02-01</td>\n",
              "      <td>9</td>\n",
              "      <td>-</td>\n",
              "      <td>7</td>\n",
              "      <td>Cocomelon</td>\n",
              "      <td>TV Show</td>\n",
              "      <td>NaN</td>\n",
              "      <td>Jun 1, 2020</td>\n",
              "      <td>426</td>\n",
              "      <td>1471</td>\n",
              "    </tr>\n",
              "    <tr>\n",
              "      <th>6959</th>\n",
              "      <td>2022-02-25</td>\n",
              "      <td>10</td>\n",
              "      <td>-</td>\n",
              "      <td>-</td>\n",
              "      <td>Cocomelon</td>\n",
              "      <td>TV Show</td>\n",
              "      <td>NaN</td>\n",
              "      <td>Jun 1, 2020</td>\n",
              "      <td>427</td>\n",
              "      <td>1472</td>\n",
              "    </tr>\n",
              "    <tr>\n",
              "      <th>6998</th>\n",
              "      <td>2022-03-01</td>\n",
              "      <td>9</td>\n",
              "      <td>-</td>\n",
              "      <td>-</td>\n",
              "      <td>Cocomelon</td>\n",
              "      <td>TV Show</td>\n",
              "      <td>NaN</td>\n",
              "      <td>Jun 1, 2020</td>\n",
              "      <td>428</td>\n",
              "      <td>1474</td>\n",
              "    </tr>\n",
              "  </tbody>\n",
              "</table>\n",
              "<p>329 rows × 10 columns</p>\n",
              "</div>\n",
              "      <button class=\"colab-df-convert\" onclick=\"convertToInteractive('df-376c92fe-46b0-4c68-ab41-f4e44ea8b4cc')\"\n",
              "              title=\"Convert this dataframe to an interactive table.\"\n",
              "              style=\"display:none;\">\n",
              "        \n",
              "  <svg xmlns=\"http://www.w3.org/2000/svg\" height=\"24px\"viewBox=\"0 0 24 24\"\n",
              "       width=\"24px\">\n",
              "    <path d=\"M0 0h24v24H0V0z\" fill=\"none\"/>\n",
              "    <path d=\"M18.56 5.44l.94 2.06.94-2.06 2.06-.94-2.06-.94-.94-2.06-.94 2.06-2.06.94zm-11 1L8.5 8.5l.94-2.06 2.06-.94-2.06-.94L8.5 2.5l-.94 2.06-2.06.94zm10 10l.94 2.06.94-2.06 2.06-.94-2.06-.94-.94-2.06-.94 2.06-2.06.94z\"/><path d=\"M17.41 7.96l-1.37-1.37c-.4-.4-.92-.59-1.43-.59-.52 0-1.04.2-1.43.59L10.3 9.45l-7.72 7.72c-.78.78-.78 2.05 0 2.83L4 21.41c.39.39.9.59 1.41.59.51 0 1.02-.2 1.41-.59l7.78-7.78 2.81-2.81c.8-.78.8-2.07 0-2.86zM5.41 20L4 18.59l7.72-7.72 1.47 1.35L5.41 20z\"/>\n",
              "  </svg>\n",
              "      </button>\n",
              "      \n",
              "  <style>\n",
              "    .colab-df-container {\n",
              "      display:flex;\n",
              "      flex-wrap:wrap;\n",
              "      gap: 12px;\n",
              "    }\n",
              "\n",
              "    .colab-df-convert {\n",
              "      background-color: #E8F0FE;\n",
              "      border: none;\n",
              "      border-radius: 50%;\n",
              "      cursor: pointer;\n",
              "      display: none;\n",
              "      fill: #1967D2;\n",
              "      height: 32px;\n",
              "      padding: 0 0 0 0;\n",
              "      width: 32px;\n",
              "    }\n",
              "\n",
              "    .colab-df-convert:hover {\n",
              "      background-color: #E2EBFA;\n",
              "      box-shadow: 0px 1px 2px rgba(60, 64, 67, 0.3), 0px 1px 3px 1px rgba(60, 64, 67, 0.15);\n",
              "      fill: #174EA6;\n",
              "    }\n",
              "\n",
              "    [theme=dark] .colab-df-convert {\n",
              "      background-color: #3B4455;\n",
              "      fill: #D2E3FC;\n",
              "    }\n",
              "\n",
              "    [theme=dark] .colab-df-convert:hover {\n",
              "      background-color: #434B5C;\n",
              "      box-shadow: 0px 1px 3px 1px rgba(0, 0, 0, 0.15);\n",
              "      filter: drop-shadow(0px 1px 2px rgba(0, 0, 0, 0.3));\n",
              "      fill: #FFFFFF;\n",
              "    }\n",
              "  </style>\n",
              "\n",
              "      <script>\n",
              "        const buttonEl =\n",
              "          document.querySelector('#df-376c92fe-46b0-4c68-ab41-f4e44ea8b4cc button.colab-df-convert');\n",
              "        buttonEl.style.display =\n",
              "          google.colab.kernel.accessAllowed ? 'block' : 'none';\n",
              "\n",
              "        async function convertToInteractive(key) {\n",
              "          const element = document.querySelector('#df-376c92fe-46b0-4c68-ab41-f4e44ea8b4cc');\n",
              "          const dataTable =\n",
              "            await google.colab.kernel.invokeFunction('convertToInteractive',\n",
              "                                                     [key], {});\n",
              "          if (!dataTable) return;\n",
              "\n",
              "          const docLinkHtml = 'Like what you see? Visit the ' +\n",
              "            '<a target=\"_blank\" href=https://colab.research.google.com/notebooks/data_table.ipynb>data table notebook</a>'\n",
              "            + ' to learn more about interactive tables.';\n",
              "          element.innerHTML = '';\n",
              "          dataTable['output_type'] = 'display_data';\n",
              "          await google.colab.output.renderOutput(dataTable, element);\n",
              "          const docLink = document.createElement('div');\n",
              "          docLink.innerHTML = docLinkHtml;\n",
              "          element.appendChild(docLink);\n",
              "        }\n",
              "      </script>\n",
              "    </div>\n",
              "  </div>\n",
              "  "
            ]
          },
          "metadata": {},
          "execution_count": 10
        }
      ],
      "source": [
        "base[base['Days In Top 10'] >= 100]"
      ]
    },
    {
      "cell_type": "code",
      "execution_count": null,
      "id": "a7bcc5cb",
      "metadata": {
        "id": "a7bcc5cb"
      },
      "outputs": [],
      "source": [
        "# É possível exportar um arquivo excel de parte dao dataset \n",
        "base_excel = base[base['Days In Top 10'] >= 100]\n",
        "base_excel.to_excel('Verificar.xlsx')"
      ]
    },
    {
      "cell_type": "markdown",
      "id": "635bfa12",
      "metadata": {
        "id": "635bfa12"
      },
      "source": [
        "#### Entendendo melhor essas informações (continuando)\n",
        "\n",
        "Com o código abaixo é possível verificar a quantidade total de aparições de cada título. Nesse caso o título \"Cocomelon\" apareceu mais vezes no top 10 da Netflix"
      ]
    },
    {
      "cell_type": "code",
      "execution_count": null,
      "id": "8f865d8b",
      "metadata": {
        "id": "8f865d8b",
        "outputId": "10bf5818-97c1-4078-ec89-24a1a03ca6be"
      },
      "outputs": [
        {
          "data": {
            "text/plain": [
              "Cocomelon                       428\n",
              "Ozark                            85\n",
              "Cobra Kai                        81\n",
              "Manifest                         80\n",
              "The Queenâs Gambit             73\n",
              "                               ... \n",
              "The Office                        1\n",
              "Animals on the Loose: A You…      1\n",
              "Dark                              1\n",
              "The Secret Life of Pets 2         1\n",
              "Step Up Revolution                1\n",
              "Name: Title, Length: 645, dtype: int64"
            ]
          },
          "execution_count": 22,
          "metadata": {},
          "output_type": "execute_result"
        }
      ],
      "source": [
        "base.Title.value_counts()"
      ]
    },
    {
      "cell_type": "markdown",
      "source": [
        "Podemos plotar um gráfico de barras para entender a distribuição dos títulos por categoria ( Série, filme, seriado, etc..) como no código abaixo."
      ],
      "metadata": {
        "id": "ZbXZ5YlEdRSi"
      },
      "id": "ZbXZ5YlEdRSi"
    },
    {
      "cell_type": "code",
      "execution_count": null,
      "id": "c1d379b4",
      "metadata": {
        "id": "c1d379b4",
        "outputId": "532cf09d-6d0d-435c-b044-b3cb60f68099"
      },
      "outputs": [
        {
          "data": {
            "image/png": "[encoded data removed]",
            "text/plain": [
              "<Figure size 432x288 with 1 Axes>"
            ]
          },
          "metadata": {
            "needs_background": "light"
          },
          "output_type": "display_data"
        }
      ],
      "source": [
        "base.Type.value_counts().plot(kind='bar');"
      ]
    },
    {
      "cell_type": "markdown",
      "source": [
        "Para entender melhor a coluna \"Viewership Score\" podemos plotar um histograma como é mostrado abaixo, nele são informados os scores no eixo horizontal e os índices do dataset no eixo vertical. Note que a maioria dos títulos se concentra entre os scores 0 e 300"
      ],
      "metadata": {
        "id": "Cj8FdrMKd5ny"
      },
      "id": "Cj8FdrMKd5ny"
    },
    {
      "cell_type": "code",
      "execution_count": null,
      "id": "fa5b3fa9",
      "metadata": {
        "id": "fa5b3fa9",
        "outputId": "4c24dfd4-4620-47be-9e83-d3bffac28ecd"
      },
      "outputs": [
        {
          "data": {
            "image/png": "[encoded data removed]",
            "text/plain": [
              "<Figure size 432x288 with 1 Axes>"
            ]
          },
          "metadata": {
            "needs_background": "light"
          },
          "output_type": "display_data"
        }
      ],
      "source": [
        "base['Viewership Score'].hist();"
      ]
    },
    {
      "cell_type": "markdown",
      "source": [
        "Podemos utilizar o pandas para localizar elementos do dataset que cumprem uma sentença lógica, no exemplo abaixo procuramos pelo título do dataset que possuia maior score."
      ],
      "metadata": {
        "id": "g-VeapUBgLmM"
      },
      "id": "g-VeapUBgLmM"
    },
    {
      "cell_type": "code",
      "execution_count": null,
      "id": "57c62c65",
      "metadata": {
        "id": "57c62c65",
        "outputId": "8092d44e-d400-4e06-b7a8-bbd0afbb5d97"
      },
      "outputs": [
        {
          "data": {
            "text/html": [
              "<div>\n",
              "<style scoped>\n",
              "    .dataframe tbody tr th:only-of-type {\n",
              "        vertical-align: middle;\n",
              "    }\n",
              "\n",
              "    .dataframe tbody tr th {\n",
              "        vertical-align: top;\n",
              "    }\n",
              "\n",
              "    .dataframe thead th {\n",
              "        text-align: right;\n",
              "    }\n",
              "</style>\n",
              "<table border=\"1\" class=\"dataframe\">\n",
              "  <thead>\n",
              "    <tr style=\"text-align: right;\">\n",
              "      <th></th>\n",
              "      <th>As of</th>\n",
              "      <th>Rank</th>\n",
              "      <th>Year to Date Rank</th>\n",
              "      <th>Last Week Rank</th>\n",
              "      <th>Title</th>\n",
              "      <th>Type</th>\n",
              "      <th>Netflix Exclusive</th>\n",
              "      <th>Netflix Release Date</th>\n",
              "      <th>Days In Top 10</th>\n",
              "      <th>Viewership Score</th>\n",
              "    </tr>\n",
              "  </thead>\n",
              "  <tbody>\n",
              "    <tr>\n",
              "      <th>6998</th>\n",
              "      <td>2022-03-01</td>\n",
              "      <td>9</td>\n",
              "      <td>-</td>\n",
              "      <td>-</td>\n",
              "      <td>Cocomelon</td>\n",
              "      <td>TV Show</td>\n",
              "      <td>NaN</td>\n",
              "      <td>Jun 1, 2020</td>\n",
              "      <td>428</td>\n",
              "      <td>1474</td>\n",
              "    </tr>\n",
              "  </tbody>\n",
              "</table>\n",
              "</div>"
            ],
            "text/plain": [
              "           As of  Rank Year to Date Rank Last Week Rank      Title     Type  \\\n",
              "6998  2022-03-01     9                 -              -  Cocomelon  TV Show   \n",
              "\n",
              "     Netflix Exclusive Netflix Release Date  Days In Top 10  Viewership Score  \n",
              "6998               NaN          Jun 1, 2020             428              1474  "
            ]
          },
          "execution_count": 25,
          "metadata": {},
          "output_type": "execute_result"
        }
      ],
      "source": [
        "base[base['Viewership Score'] == base['Viewership Score'].max()]"
      ]
    }
  ],
  "metadata": {
    "kernelspec": {
      "display_name": "Python 3 (ipykernel)",
      "language": "python",
      "name": "python3"
    },
    "language_info": {
      "codemirror_mode": {
        "name": "ipython",
        "version": 3
      },
      "file_extension": ".py",
      "mimetype": "text/x-python",
      "name": "python",
      "nbconvert_exporter": "python",
      "pygments_lexer": "ipython3",
      "version": "3.9.7"
    },
    "colab": {
      "name": "Analise exploratoria impressionadora.ipynb",
      "provenance": []
    }
  },
  "nbformat": 4,
  "nbformat_minor": 5
}