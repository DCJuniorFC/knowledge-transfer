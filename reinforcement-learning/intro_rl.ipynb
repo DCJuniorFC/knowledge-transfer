{
 "cells": [
  {
   "cell_type": "markdown",
   "metadata": {},
   "source": [
    "## INTRODUÇÃO AO REINFORCEMENT LEARNING\n",
    "> Para sistemas em que existem várias formas de resolver o problema, mas queremos saber qual é a MELHOR segundo alguma(s) métrica(s)."
   ]
  },
  {
   "cell_type": "markdown",
   "metadata": {},
   "source": [
    "### INTUIÇÃO"
   ]
  },
  {
   "cell_type": "markdown",
   "metadata": {},
   "source": [
    "Para compreender a solução proposta pelo Reinforcemente Learning, primeiramente é importanter ter uma noção intuitiva do que são processos de decisão de Markov (MDP, do inglês Markov Decision Processes). Em MDPs, definimos um sistema com base em:\n",
    "\n",
    "- Seus possíveis [estados](https://www.youtube.com/watch?v=Jk2V9yA82YU) (denotados s), \n",
    "- As [ações](https://www.youtube.com/watch?v=BxIG76-C37k)  que podemos tomar (denotadas A ou A(s)), \n",
    "- O [modelo](https://www.youtube.com/watch?v=BxIG76-C37k) probabilístico escolhido (denotado T(s,a,s') ~ P(s' | s,a) ), \n",
    "- A [recompensa](https://www.youtube.com/watch?v=Jw3ZnWFjDfM) recebida devido à uma ação (denotada R(s),R(s,a), R(s,a,s')),\n",
    "- E a [política](https://www.youtube.com/watch?v=dkBZ9YKuOVA) utilizada para escolher uma ação dado o estado atual (pi(s) -> a).\n",
    "\n",
    "Considere a imagem abaixo, apresentando a representação genérica de um sistema a ser controlado."
   ]
  },
  {
   "cell_type": "code",
   "execution_count": 3,
   "metadata": {},
   "outputs": [
    {
     "data": {
      "image/png": "[encoded data removed]",
      "text/plain": [
       "<IPython.core.display.Image object>"
      ]
     },
     "execution_count": 3,
     "metadata": {},
     "output_type": "execute_result"
    }
   ],
   "source": [
    "# Mostra imagem a partir de arquivo local\n",
    "from IPython.display import Image\n",
    "Image(filename='generalRL.png') "
   ]
  },
  {
   "cell_type": "markdown",
   "metadata": {},
   "source": [
    "Diante dessa metodologia de modelagem, através de MDPs, desejamos empregar um agente para executar uma tarefa. \n",
    "\n",
    "Em outras palavras, tendo delimitado os possíveis **ESTADOS** de um agente em um ambiente, através de um **MODELO**, estimamos a probabilidade de atingir um novo estado **s'**, dado o estado atual **s** e a ação que pretendendemos executar **a**. Através de uma **POLÍTICA**, decidimos qual ação tomar diante do **MODELO** construído. \n",
    "\n",
    "Porém, não basta utilizar qualquer política para se solucionar um problema: jogar na loteria é uma política que determina a ação de um possível agente tentando sair de um estado financeiro **s** para **s'**, mas não necessariamente essa é a *melhor* política.\n",
    "\n",
    "Assim, a tarefa do aprendizado por reforço otimizar a política de um agente, através **RECOMPENSANDO** transições entre estados. Se toda vez que seu pet faz necessidades no lugar certo, ganha um petisco, esse pet tenderá a repetir essa ação devido à recompensa. Essa é a proposta do aprendizado por reforço. "
   ]
  },
  {
   "cell_type": "markdown",
   "metadata": {},
   "source": [
    "### DEFINIÇÃO MATEMÁTICA"
   ]
  },
  {
   "cell_type": "markdown",
   "metadata": {},
   "source": [
    "Definindo em termos matemáticos, define-se um MDP como: \n",
    "\n",
    "$\\langle\\mathcal{S},\\mathcal{A},R,P,\\gamma\\rangle$\n",
    "\n",
    "onde \n",
    "\n",
    "- $\\mathcal{S}$ representa um conjunto finito de estados, \n",
    "- $\\mathcal{A}$ representa um conjunto finito de ações, \n",
    "- $R:\\mathcal{S}\\times\\mathcal{A}\\rightarrow [R_{min}, R_{max}]\\subset\\mathbb{R}$ representa o conjunto finito de recompensas (limitadas!) à ações diante de estados,\n",
    "- $P(s, a)(s'):\\mathcal{S}\\times\\mathcal{A}$ representa um conjunto finito de probabilidades de um estado levar à outro diante de uma ação,\n",
    "- E $\\gamma\\in[0, 1)$ representa pesos a serem atribuídos às recompensas.\n"
   ]
  },
  {
   "cell_type": "markdown",
   "metadata": {},
   "source": [
    "Assim, a política ótima é:\n",
    "\n",
    "$\\pi^* = \\argmax_{\\pi} \\Big\\{ \\mathbb{E}[\\text{ }\\sum_{t=0}^{\\infty}(\\gamma^t\\cdot \\mathbb{R}(s_t))\\text{ }|\\text{ }\\pi\\text{ }] \\Big\\}$\n",
    "<!-- $\\pi^*(s) = \\argmax_{a\\in\\mathcal{A}} \\Big\\{Q^*(s, a)\\Big\\}$ onde -->\n",
    "\n",
    "\n",
    "ou seja, dentre todas as políticas, a melhor é aquela que maximiza a **esperança** de recompensas diante das escolhas tomadas, assim como fazem os pets.\n"
   ]
  },
  {
   "cell_type": "markdown",
   "metadata": {},
   "source": [
    "Diante disso, a utilidade de uma política em um dado estado pode ser medida como:\n",
    "\n",
    "$U^{\\pi}= \\mathbb{E}\\Big[\\text{ }\\sum_{t=0}^{\\infty}(\\gamma^t\\cdot \\mathbb{R}(s_t))\\text{ } |\\text{ }\\pi\\ \\text{, } s=s_0\\text{ }\\Big] $ \n",
    "\n",
    "ou seja, dada uma política e um estado inicial a **experança** que temos de obter uma grande recompensa ($\\sum_{t=0}^{\\infty}(\\gamma^t\\cdot \\subset\\mathbb{R}(s_t))$), define o quão útil essa política é."
   ]
  },
  {
   "cell_type": "markdown",
   "metadata": {},
   "source": [
    "Finalmente, podemos definir propriamente o algoritmo de aprendizado por reforço:\n",
    "\n",
    "1.  Inicializar $U\\equiv 0$\n",
    "1.  Repetir até convergir:\n",
    "    *  For every $s\\in\\mathcal{S}$:<br>$U(s)\\leftarrow \\max_{a\\in\\mathcal{A}} \\left[ R(s, a) + \\gamma \\sum_{s'\\in\\mathcal{S}}P(s, a)(s') U(s') \\right]$\n",
    "1.  Retornar $U$"
   ]
  },
  {
   "cell_type": "markdown",
   "metadata": {},
   "source": [
    "### EXEMPLO: GRID WORLD PROBLEM"
   ]
  },
  {
   "cell_type": "code",
   "execution_count": null,
   "metadata": {},
   "outputs": [],
   "source": []
  },
  {
   "cell_type": "markdown",
   "metadata": {},
   "source": [
    "### DETALHES E ABSTRAÇÕES IMPORTANTES"
   ]
  },
  {
   "cell_type": "code",
   "execution_count": null,
   "metadata": {},
   "outputs": [],
   "source": []
  },
  {
   "cell_type": "markdown",
   "metadata": {},
   "source": [
    "### SAIBA MAIS"
   ]
  },
  {
   "cell_type": "markdown",
   "metadata": {},
   "source": [
    "Alguns materiais usados, replicados ou aplicados para construir esse notebook:\n",
    "\n",
    "1. [What is the \"Hello World\" problem of Reinforcement Learning? - Artificial Intelligence Stack Exchange](https://ai.stackexchange.com/questions/23561/what-is-the-hello-world-problem-of-reinforcement-learning)\n",
    "\n",
    "2. [aikorea/awesome-rl: Reinforcement learning resources curated](https://github.com/aikorea/awesome-rl#table-of-contents)\n",
    "\n",
    "3. [ShangtongZhang/reinforcement-learning-an-introduction: Python Implementation of Reinforcement Learning: An Introduction](https://github.com/ShangtongZhang/reinforcement-learning-an-introduction)\n",
    "> [Livro Python Implementation of Reinforcement Learning: An Introduction: RLbook2020.pdf](http://incompleteideas.net/book/RLbook2020.pdf)\n",
    "\n",
    "4. "
   ]
  },
  {
   "cell_type": "markdown",
   "metadata": {},
   "source": [
    "A estabilidade de sistemas controlados/monitorados por aprendizado por reforço é frequentemente questionada ou até criticada por especialistas, principalmente aqueles com background em Teoria de Controle Clássico. Aqui alguns materiais sobre esse assunto:\n",
    "\n",
    "1. [Stability (learning theory) - Wikipedia](https://en.wikipedia.org/wiki/Stability_(learning_theory)#:~:text=Stability%2C%20also%20known%20as%20algorithmic,training%20data%20is%20modified%20slightly)\n",
    "\n",
    "2. [Stability-certified reinforcement learning: A control-theoretic perspective](https://arxiv.org/pdf/1810.11505.pdf)\n",
    "\n",
    "3. [Data-Driven Model Predictive Control with Stability and Robustness Guarantees 1906.04679.pdf](https://arxiv.org/pdf/1906.04679.pdf)\n",
    "\n",
    "4. [Data-Driven MPC for Quadrotors. IEEE Robotics and Automation Letters, 6(2), 3769–3776 | 10.1109/LRA.2021.3061307](https://sci-hub.se/10.1109/LRA.2021.3061307)"
   ]
  },
  {
   "cell_type": "markdown",
   "metadata": {},
   "source": [
    "Para continuar executando, links:"
   ]
  },
  {
   "cell_type": "markdown",
   "metadata": {},
   "source": [
    "(19) Markov Decision Processes Four - Georgia Tech - Machine Learning - YouTube\n",
    "https://www.youtube.com/watch?v=dkBZ9YKuOVA\n",
    "\n",
    "Policies Two - Georgia Tech - Machine Learning - YouTube\n",
    "https://www.youtube.com/watch?v=sZevPd2IkM8\n",
    "\n",
    "Reinforcement learning - Wikipedia\n",
    "https://en.wikipedia.org/wiki/Reinforcement_learning\n",
    "\n",
    "Bellman equation - Wikipedia\n",
    "https://en.wikipedia.org/wiki/Bellman_equation\n",
    "\n",
    "Google Colab\n",
    "https://colab.research.google.com/github/psc-g/intro_to_rl/blob/master/Introduction_to_reinforcement_learning.ipynb#scrollTo=htXeBYYgmBw3\n",
    "\n",
    "RLbook2020.pdf\n",
    "http://incompleteideas.net/book/RLbook2020.pdf\n",
    "\n",
    "| notebook.community\n",
    "https://notebook.community/spro/practical-pytorch/reinforce-gridworld/reinforce-gridworld\n",
    "\n",
    "Welcome to Spinning Up in Deep RL! — Spinning Up documentation\n",
    "https://spinningup.openai.com/en/latest/\n"
   ]
  }
 ],
 "metadata": {
  "kernelspec": {
   "display_name": "Python 3.8.0 64-bit",
   "language": "python",
   "name": "python3"
  },
  "language_info": {
   "codemirror_mode": {
    "name": "ipython",
    "version": 3
   },
   "file_extension": ".py",
   "mimetype": "text/x-python",
   "name": "python",
   "nbconvert_exporter": "python",
   "pygments_lexer": "ipython3",
   "version": "3.8.0"
  },
  "orig_nbformat": 4,
  "vscode": {
   "interpreter": {
    "hash": "5dd76241fa2ee905525e0a1efacb16294be0e14843e7f10299cba718b3e5fb2a"
   }
  }
 },
 "nbformat": 4,
 "nbformat_minor": 2
}
